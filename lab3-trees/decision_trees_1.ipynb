{
 "cells": [
  {
   "cell_type": "markdown",
   "metadata": {},
   "source": [
    "# Деревья решений"
   ]
  },
  {
   "cell_type": "markdown",
   "metadata": {},
   "source": [
    "## Часть 1. Реализация алгоритма CART<br>(2 бала за первые 3 сдачи в каждой подгруппе, далее 1 бал)"
   ]
  },
  {
   "cell_type": "markdown",
   "metadata": {},
   "source": [
    "Задачи:\n",
    " - Изучить принцип работы алгоритма CART (Classification and Regression Trees)\n",
    " - Реализовать дерево решений <b>только для категориальных признаков</b> с использованием двух критериев:\n",
    "   - Индекс Джини (для первой подгруппы)\n",
    "   - Энтропия Шэннона + прирост информации (для второй подгруппы)\n",
    " - Визуализировать обученное дерево (пример в файле `example.svg`)\n",
    "  \n",
    "Пояснения:\n",
    "- Дерево должно быть бинарным\n",
    "- Разделение вершины должно быть только по одному конкретному значению признака\n",
    " \n",
    "Из сторонних библиотек разрешается использовать только `numpy` и `graphviz`.<br>\n",
    "Дополнительно нужно установить библиотеку [graphviz](https://graphviz.org/download/)"
   ]
  },
  {
   "cell_type": "code",
   "execution_count": 1,
   "metadata": {},
   "outputs": [],
   "source": [
    "%load_ext autoreload\n",
    "%autoreload 2"
   ]
  },
  {
   "cell_type": "code",
   "execution_count": null,
   "metadata": {},
   "outputs": [],
   "source": [
    "%matplotlib inline\n",
    "import numpy as np\n",
    "from matplotlib import pyplot as plt\n",
    "\n",
    "plt.rcParams[\"figure.figsize\"] = (10, 8)"
   ]
  },
  {
   "cell_type": "code",
   "execution_count": null,
   "metadata": {},
   "outputs": [],
   "source": [
    "import numpy as np\n",
    "\n",
    "\n",
    "class Node:\n",
    "    def __init__(self, ...):\n",
    "        # your code here\n",
    "        ...\n",
    "\n",
    "    def __repr__(self):\n",
    "        # your code here\n",
    "        ...\n",
    "\n",
    "\n",
    "class DecisionTree:\n",
    "    def __init__(self, max_depth=None, min_samples_split=2):\n",
    "        self.max_depth = max_depth  # Максимальная глубина дерева\n",
    "        self.min_samples_split = min_samples_split  # Минимальное количество образцов для разделения\n",
    "        self.root: Node | None = None\n",
    "\n",
    "    def fit(self, X: np.array, y: np.array):\n",
    "        \"\"\"Обучение дерева на данных X и y.\"\"\"\n",
    "        self._build_tree(X, y, 0)\n",
    "\n",
    "    def _build_tree(self, X: np.array, y: np.array, depth: int) -> Node:\n",
    "        \"\"\"Рекурсивное построение дерева.\"\"\"\n",
    "\n",
    "        # Возвращаем корень дерева\n",
    "        return root\n",
    "\n",
    "    def _find_best_split(self, X, y):\n",
    "        \"\"\"Поиск лучшего разделения по заданному критерию.\"\"\"\n",
    "        # your code here\n",
    "\n",
    "    def predict(self, X: np.array) -> np.array:\n",
    "        \"\"\"Предсказание класса для новых данных.\"\"\"\n",
    "        # your code here"
   ]
  },
  {
   "cell_type": "code",
   "execution_count": null,
   "metadata": {},
   "outputs": [],
   "source": [
    "# Игрушечный пример данных\n",
    "# Пример данных (погода -> играть в гольф?)\n",
    "X = np.array(\n",
    "    [\n",
    "        [\"Sunny\", \"Hot\", \"High\", \"Weak\"],\n",
    "        [\"Sunny\", \"Hot\", \"High\", \"Strong\"],\n",
    "        [\"Overcast\", \"Hot\", \"High\", \"Weak\"],\n",
    "        [\"Rain\", \"Mild\", \"High\", \"Weak\"],\n",
    "        [\"Rain\", \"Cool\", \"Normal\", \"Weak\"],\n",
    "        [\"Rain\", \"Cool\", \"Normal\", \"Strong\"],\n",
    "        [\"Overcast\", \"Cool\", \"Normal\", \"Strong\"],\n",
    "        [\"Sunny\", \"Mild\", \"High\", \"Weak\"],\n",
    "        [\"Sunny\", \"Cool\", \"Normal\", \"Weak\"],\n",
    "        [\"Rain\", \"Mild\", \"Normal\", \"Weak\"],\n",
    "        [\"Sunny\", \"Mild\", \"Normal\", \"Strong\"],\n",
    "        [\"Overcast\", \"Mild\", \"High\", \"Strong\"],\n",
    "        [\"Overcast\", \"Hot\", \"Normal\", \"Weak\"],\n",
    "        [\"Rain\", \"Mild\", \"High\", \"Strong\"],\n",
    "    ]\n",
    ")\n",
    "\n",
    "y = np.array(\n",
    "    [\"No\", \"No\", \"Yes\", \"Yes\", \"Yes\", \"No\", \"Yes\", \"No\", \"Yes\", \"Yes\", \"Yes\", \"Yes\", \"Yes\", \"No\"]\n",
    ")\n",
    "feature_names = [\"Outlook\", \"Temperature\", \"Humidity\", \"Wind\"]"
   ]
  },
  {
   "cell_type": "code",
   "execution_count": null,
   "metadata": {},
   "outputs": [],
   "source": [
    "# Создание и обучение модели\n",
    "tree = DecisionTree(max_depth=3)\n",
    "tree.fit(X, y)"
   ]
  },
  {
   "cell_type": "code",
   "execution_count": null,
   "metadata": {},
   "outputs": [],
   "source": [
    "# Предсказание\n",
    "test_samples = np.array(\n",
    "    [\n",
    "        [\"Overcast\", \"Hot\", \"Normal\", \"Weak\"],  # Ожидаемый результат: Yes\n",
    "        [\"Sunny\", \"Hot\", \"High\", \"Strong\"],  # Ожидаемый результат: No\n",
    "    ]\n",
    ")\n",
    "print(tree.predict(test_samples))  # Output: ['Yes' 'No']"
   ]
  },
  {
   "cell_type": "code",
   "execution_count": null,
   "metadata": {},
   "outputs": [],
   "source": [
    "from graphviz import Digraph\n",
    "\n",
    "def visualize_tree(tree: DecisionTree, feature_names: list) -> Digraph:\n",
    "    dot = Digraph(comment=\"Decision Tree\")\n",
    "    # all you need from graphviz:\n",
    "    # dot.node(node_id, label=label, shape=\"box\")\n",
    "    # dot.edge(parent_node_id, node_id, label=edge_label)\n",
    "\n",
    "    # your code here\n",
    "    return dot\n",
    "\n",
    "\n",
    "visualize_tree(tree, feature_names)"
   ]
  },
  {
   "cell_type": "code",
   "execution_count": null,
   "metadata": {},
   "outputs": [],
   "source": []
  }
 ],
 "metadata": {
  "kernelspec": {
   "display_name": ".venv",
   "language": "python",
   "name": "python3"
  },
  "language_info": {
   "codemirror_mode": {
    "name": "ipython",
    "version": 3
   },
   "file_extension": ".py",
   "mimetype": "text/x-python",
   "name": "python",
   "nbconvert_exporter": "python",
   "pygments_lexer": "ipython3",
   "version": "3.12.9"
  }
 },
 "nbformat": 4,
 "nbformat_minor": 2
}
